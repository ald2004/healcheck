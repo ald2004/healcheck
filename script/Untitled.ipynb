{
 "cells": [
  {
   "cell_type": "code",
   "execution_count": 25,
   "metadata": {},
   "outputs": [],
   "source": [
    "import requests\n",
    "ruleid=886\n",
    "import json\n",
    "\n",
    "class bcolors:\n",
    "    HEADER = '\\033[95m'\n",
    "    OKBLUE = '\\033[94m'\n",
    "    OKCYAN = '\\033[96m'\n",
    "    OKGREEN = '\\033[92m'\n",
    "    WARNING = '\\033[93m'\n",
    "    FAIL = '\\033[91m'\n",
    "    ENDC = '\\033[0m'\n",
    "    BOLD = '\\033[1m'\n",
    "    UNDERLINE = '\\033[4m'\n",
    "    WARNING_RED = '\\x1b[31m'\n",
    "    WARNING_RED_END = '\\x1b[0m'\n",
    "\n",
    "\n",
    "class dns:\n",
    "    SITE_ONE = \"http://39.98.184.81\"  # 8325.gr792d04.f0ezq5ws.e87a2d.grapps.cn\n",
    "    SITE_B = \"http://8325.gr792d04.f0ezq5ws.e87a2d.grapps.cn\"\n",
    "\n",
    "\n",
    "mycolor = bcolors\n",
    "mydns = dns\n",
    "HEADER={\n",
    "        \"Request-Origion\":\"Knife4j\",\n",
    "        \"Content-Type\":\"application/x-www-form-urlencoded\"\n",
    "    }\n",
    "# r = requests.put(url=f\"http://{mydns.SITE_ONE}/api/rule/error/{ruleid}\",headers=HEADER)"
   ]
  },
  {
   "cell_type": "code",
   "execution_count": 29,
   "metadata": {
    "scrolled": false
   },
   "outputs": [
    {
     "name": "stdout",
     "output_type": "stream",
     "text": [
      "\u001b[92msend ruleid:886,succeed\u001b[0m\n"
     ]
    }
   ],
   "source": [
    "try:\n",
    "    xx = json.loads(r.text)\n",
    "    # {\"success\":true,\"code\":0,\"message\":\"业务处理成功\",\"data\":false}\n",
    "    if xx.get('code'):\n",
    "        print(f\"{mycolor.WARNING_RED} send message error: code is {xx.get('code')},message is :{xx.get('message')}{mycolor.WARNING_RED_END}\")\n",
    "    else:\n",
    "        print(f\"{mycolor.OKGREEN}send ruleid:{ruleid},succeed{mycolor.ENDC}\")\n",
    "except Exception as e:\n",
    "    print(f\"{mycolor.WARNING_RED} {sys.exc_info()[0]}{mycolor.WARNING_RED_END}\")"
   ]
  },
  {
   "cell_type": "code",
   "execution_count": 28,
   "metadata": {
    "scrolled": true
   },
   "outputs": [
    {
     "data": {
      "text/plain": [
       "int"
      ]
     },
     "execution_count": 28,
     "metadata": {},
     "output_type": "execute_result"
    }
   ],
   "source": [
    "type(xx.get('code'))"
   ]
  }
 ],
 "metadata": {
  "kernelspec": {
   "display_name": "Python 3",
   "language": "python",
   "name": "python3"
  },
  "language_info": {
   "codemirror_mode": {
    "name": "ipython",
    "version": 3
   },
   "file_extension": ".py",
   "mimetype": "text/x-python",
   "name": "python",
   "nbconvert_exporter": "python",
   "pygments_lexer": "ipython3",
   "version": "3.6.9"
  }
 },
 "nbformat": 4,
 "nbformat_minor": 4
}
